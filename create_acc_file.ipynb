{
 "cells": [
  {
   "cell_type": "code",
   "execution_count": 9,
   "id": "c958eacb",
   "metadata": {},
   "outputs": [],
   "source": [
    "import os\n",
    "import pandas as pd"
   ]
  },
  {
   "cell_type": "code",
   "execution_count": 10,
   "id": "304628f2",
   "metadata": {},
   "outputs": [],
   "source": [
    "raw_data_dir = \"/u/scratch/r/rwolff/Evolution_Experiment/Raw_data/Illumina-ShortReads\"\n",
    "data_files = os.listdir(raw_data_dir)"
   ]
  },
  {
   "cell_type": "code",
   "execution_count": 11,
   "id": "9039d196",
   "metadata": {},
   "outputs": [],
   "source": [
    "pd.DataFrame(list(set([\"_\".join(d.split(\"_\")[:-3]) for d in data_files]))).to_csv(\"acc_list.csv\",index=None,header=None)"
   ]
  },
  {
   "cell_type": "code",
   "execution_count": 12,
   "id": "b77fc5df",
   "metadata": {},
   "outputs": [
    {
     "data": {
      "text/plain": [
       "['Rep7_Pass51',\n",
       " 'Rep1_Pass51',\n",
       " 'Rep9_Pass51_cont',\n",
       " 'Rep5_Pass51',\n",
       " 'Rep10_Pass51',\n",
       " 'Rep3_Pass30',\n",
       " 'Rep3_Pass51',\n",
       " 'Rep8_Pass51',\n",
       " 'Rep9_Pass51',\n",
       " 'Rep3_Pass16',\n",
       " 'Rep3_Pass5',\n",
       " 'Rep3_Pass44',\n",
       " 'Rep11_Pass51',\n",
       " 'Rep3_Pass9',\n",
       " 'Rep3_Pass37',\n",
       " 'Rep4_Pass51',\n",
       " 'Rep6_Pass51',\n",
       " 'Rep2_Pass51',\n",
       " 'Rep3_Pass23',\n",
       " 'Rep3_Pass37_cont',\n",
       " 'Rep12_Pass51',\n",
       " 'WF_parent']"
      ]
     },
     "execution_count": 12,
     "metadata": {},
     "output_type": "execute_result"
    }
   ],
   "source": [
    "list(set([\"_\".join(d.split(\"_\")[:-3]) for d in data_files]))"
   ]
  },
  {
   "cell_type": "code",
   "execution_count": 13,
   "id": "d180e698",
   "metadata": {},
   "outputs": [
    {
     "data": {
      "text/plain": [
       "['Rep3_Pass37_cont_R1_val_1.fq',\n",
       " 'Rep3_Pass23_R1_val_1.fq',\n",
       " 'Rep11_Pass51_R1_val_1.fq',\n",
       " 'Rep3_Pass30_R2_val_2.fq',\n",
       " 'Rep12_Pass51_R2_val_2.fq',\n",
       " 'Rep3_Pass16_R1_val_1.fq',\n",
       " 'Rep3_Pass37_cont_R2_val_2.fq',\n",
       " 'Rep4_Pass51_R1_val_1.fq',\n",
       " 'Rep10_Pass51_R2_val_2.fq',\n",
       " 'Rep3_Pass51_R1_val_1.fq',\n",
       " 'WF_parent_R2_val_2.fq',\n",
       " 'Rep2_Pass51_R1_val_1.fq',\n",
       " 'Rep3_Pass5_R2_val_2.fq',\n",
       " 'Rep3_Pass44_R2_val_2.fq',\n",
       " 'Rep3_Pass30_R1_val_1.fq',\n",
       " 'Rep9_Pass51_R2_val_2.fq',\n",
       " 'Rep8_Pass51_R2_val_2.fq',\n",
       " 'Rep1_Pass51_R1_val_1.fq',\n",
       " 'Rep6_Pass51_R2_val_2.fq',\n",
       " 'Rep1_Pass51_R2_val_2.fq',\n",
       " 'Rep11_Pass51_R2_val_2.fq',\n",
       " 'Rep8_Pass51_R1_val_1.fq',\n",
       " 'Rep7_Pass51_R2_val_2.fq',\n",
       " 'Rep9_Pass51_cont_R2_val_2.fq',\n",
       " 'Rep2_Pass51_R2_val_2.fq',\n",
       " 'Rep3_Pass9_R2_val_2.fq',\n",
       " 'Rep3_Pass37_R2_val_2.fq',\n",
       " 'Rep9_Pass51_cont_R1_val_1.fq',\n",
       " 'Rep3_Pass51_R2_val_2.fq',\n",
       " 'Rep4_Pass51_R2_val_2.fq',\n",
       " 'Rep9_Pass51_R1_val_1.fq',\n",
       " 'Rep3_Pass44_R1_val_1.fq',\n",
       " 'Rep12_Pass51_R1_val_1.fq',\n",
       " 'WF_parent_R1_val_1.fq',\n",
       " 'Rep10_Pass51_R1_val_1.fq',\n",
       " 'Rep3_Pass5_R1_val_1.fq',\n",
       " 'Rep5_Pass51_R2_val_2.fq',\n",
       " 'Rep5_Pass51_R1_val_1.fq',\n",
       " 'Rep3_Pass9_R1_val_1.fq',\n",
       " 'Rep3_Pass16_R2_val_2.fq',\n",
       " 'Rep7_Pass51_R1_val_1.fq',\n",
       " 'Rep3_Pass37_R1_val_1.fq',\n",
       " 'Rep3_Pass23_R2_val_2.fq',\n",
       " 'Rep6_Pass51_R1_val_1.fq']"
      ]
     },
     "execution_count": 13,
     "metadata": {},
     "output_type": "execute_result"
    }
   ],
   "source": [
    "data_files"
   ]
  },
  {
   "cell_type": "code",
   "execution_count": null,
   "id": "261cac73",
   "metadata": {},
   "outputs": [],
   "source": []
  }
 ],
 "metadata": {
  "kernelspec": {
   "display_name": "genetic_diversity_utils",
   "language": "python",
   "name": "genetic_diversity_utils"
  },
  "language_info": {
   "codemirror_mode": {
    "name": "ipython",
    "version": 3
   },
   "file_extension": ".py",
   "mimetype": "text/x-python",
   "name": "python",
   "nbconvert_exporter": "python",
   "pygments_lexer": "ipython3",
   "version": "3.9.13"
  }
 },
 "nbformat": 4,
 "nbformat_minor": 5
}
